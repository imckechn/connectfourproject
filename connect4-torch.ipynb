{
 "cells": [
  {
   "cell_type": "code",
   "execution_count": 3,
   "metadata": {},
   "outputs": [
    {
     "name": "stdout",
     "output_type": "stream",
     "text": [
      "cpu\n"
     ]
    }
   ],
   "source": [
    "import torch\n",
    "from torchvision import *\n",
    "import torch.nn as nn\n",
    "import pandas as pd\n",
    "import numpy as np\n",
    "import pickle\n",
    "import matplotlib.pyplot as plt\n",
    "import functools\n",
    "from urllib.request import urlopen\n",
    "\n",
    "#Check for GPU\n",
    "device = torch.device(\"cuda:0\" if torch.cuda.is_available() else \"cpu\")\n",
    "print(device)\n",
    "\n",
    "\n",
    "#TEMP\n",
    "import jax, jax.numpy as jnp\n",
    "\n",
    "\n"
   ]
  },
  {
   "attachments": {},
   "cell_type": "markdown",
   "metadata": {},
   "source": [
    "# Configuration"
   ]
  },
  {
   "cell_type": "code",
   "execution_count": 2,
   "metadata": {},
   "outputs": [],
   "source": [
    "default_config={'width': 7, 'height': 6, 'temperature': 0.0000001}"
   ]
  },
  {
   "attachments": {},
   "cell_type": "markdown",
   "metadata": {},
   "source": [
    "# Environment Code\n",
    "\n",
    "This contains all the connect four environment code. The code for this environment is an adaptation of the implementations by:\n",
    "* Pascal Pon (http://blog.gamesolver.org/)\n",
    "* John Tromp (https://tromp.github.io/c4/c4.html)\n",
    "\n",
    "These sites give an in-depth explaination about the environment. \n",
    "\n",
    "My implementation allows the games to be vectorized, and has functions that make batching and rollouts easy to implement."
   ]
  },
  {
   "cell_type": "code",
   "execution_count": 4,
   "metadata": {},
   "outputs": [],
   "source": [
    "def get_piece_locations(config=default_config):\n",
    "  # Returns an array containing the bit locations of each piece on the bitboard\n",
    "  return np.arry([2 ** (col + config['width'] * row) for row in range(config['height']) for col in range(config['width'])], dtype=np.uint64)\n",
    "\n",
    "def state_to_array(state, piece_locations, config=default_config):\n",
    "  '''Represents the game state in an (..., 84), array'''\n",
    "  # The first 42 elements are the current players piece locations\n",
    "  # The last 42 elements are the opponent players piece locations\n",
    "\n",
    "  # converts the player state to an array containing the current players pieces\n",
    "  current_player = np.invert(is_empty_intersection(state[0], piece_locations))\n",
    "\n",
    "  # converts the opponent state to an array containing the opponent players pieces\n",
    "  opponent = np. invert(is_empty_intersection(get_opponent_state(state)[0], piece_locations))\n",
    "\n",
    "  return np.concatenate([current_player, opponent], axis=-1).astype(float)"
   ]
  },
  {
   "cell_type": "code",
   "execution_count": 9,
   "metadata": {},
   "outputs": [
    {
     "name": "stdout",
     "output_type": "stream",
     "text": [
      "<class 'jaxlib.xla_extension.ArrayImpl'>\n",
      "[         1          2          4          8         16         32\n",
      "         64        128        256        512       1024       2048\n",
      "       4096       8192      16384      32768      65536     131072\n",
      "     262144     524288    1048576    2097152    4194304    8388608\n",
      "   16777216   33554432   67108864  134217728  268435456  536870912\n",
      " 1073741824 2147483648          0          0          0          0\n",
      "          0          0          0          0          0          0]\n"
     ]
    },
    {
     "name": "stderr",
     "output_type": "stream",
     "text": [
      "/var/folders/yw/ckylxvy95xld6whm7608ymr80000gn/T/ipykernel_31857/1682260434.py:3: UserWarning: Explicitly requested dtype <class 'jax.numpy.uint64'> requested in array is not available, and will be truncated to dtype uint32. To enable more dtypes, set the jax_enable_x64 configuration option or the JAX_ENABLE_X64 shell environment variable. See https://github.com/google/jax#current-gotchas for more.\n",
      "  return jnp.array([2 ** (col + config['width'] * row) for row in range(config['height']) for col in range(config['width'])], dtype=jnp.uint64)\n"
     ]
    }
   ],
   "source": [
    "elem = get_piece_locations()\n",
    "print(type(elem))\n",
    "print(elem)"
   ]
  }
 ],
 "metadata": {
  "kernelspec": {
   "display_name": "Python 3",
   "language": "python",
   "name": "python3"
  },
  "language_info": {
   "codemirror_mode": {
    "name": "ipython",
    "version": 3
   },
   "file_extension": ".py",
   "mimetype": "text/x-python",
   "name": "python",
   "nbconvert_exporter": "python",
   "pygments_lexer": "ipython3",
   "version": "3.11.2"
  },
  "orig_nbformat": 4
 },
 "nbformat": 4,
 "nbformat_minor": 2
}
